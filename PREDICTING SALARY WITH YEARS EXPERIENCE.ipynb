{
 "cells": [
  {
   "cell_type": "code",
   "execution_count": 14,
   "id": "ed49bc5f-9402-494c-bb54-fb53aa5d91a5",
   "metadata": {},
   "outputs": [],
   "source": [
    "import pandas as pd\n",
    "import matplotlib.pyplot as plot\n",
    "from sklearn.linear_model import LinearRegression\n",
    "from sklearn.model_selection import train_test_split\n",
    "import statsmodels.api as stats\n",
    "import sklearn.metrics as metrics\n",
    "from statsmodels.tools.eval_measures import rmse, mse, meanabs"
   ]
  },
  {
   "cell_type": "code",
   "execution_count": 12,
   "id": "6d34e55b-e7d6-41e6-8d48-2847e1625241",
   "metadata": {},
   "outputs": [
    {
     "name": "stdout",
     "output_type": "stream",
     "text": [
      "    YearsExperience    Salary\n",
      "0               1.1   39343.0\n",
      "1               1.3   46205.0\n",
      "2               1.5   37731.0\n",
      "3               2.0   43525.0\n",
      "4               2.2   39891.0\n",
      "5               2.9   56642.0\n",
      "6               3.0   60150.0\n",
      "7               3.2   54445.0\n",
      "8               3.2   64445.0\n",
      "9               3.7   57189.0\n",
      "10              3.9   63218.0\n",
      "11              4.0   55794.0\n",
      "12              4.0   56957.0\n",
      "13              4.1   57081.0\n",
      "14              4.5   61111.0\n",
      "15              4.9   67938.0\n",
      "16              5.1   66029.0\n",
      "17              5.3   83088.0\n",
      "18              5.9   81363.0\n",
      "19              6.0   93940.0\n",
      "20              6.8   91738.0\n",
      "21              7.1   98273.0\n",
      "22              7.9  101302.0\n",
      "23              8.2  113812.0\n",
      "24              8.7  109431.0\n",
      "25              9.0  105582.0\n",
      "26              9.5  116969.0\n",
      "27              9.6  112635.0\n",
      "28             10.3  122391.0\n",
      "29             10.5  121872.0\n"
     ]
    }
   ],
   "source": [
    "df1 = pd.read_csv(r'C:/Users/ANUJ OJHA/Desktop/Salary_Data.csv')\n",
    "print(df1)"
   ]
  },
  {
   "cell_type": "code",
   "execution_count": 6,
   "id": "5aa5f302-fc24-423c-a4c9-d912229e5977",
   "metadata": {},
   "outputs": [
    {
     "data": {
      "image/png": "[encoded data removed]",
      "text/plain": [
       "<Figure size 432x288 with 1 Axes>"
      ]
     },
     "metadata": {
      "needs_background": "light"
     },
     "output_type": "display_data"
    }
   ],
   "source": [
    "plot.scatter(df1['YearsExperience'], df1['Salary'])\n",
    "plot.title('YearsExperience vs Salary', fontsize=15)\n",
    "plot.xlabel('YearsExperience')\n",
    "plot.ylabel('Salary')\n",
    "plot.grid(True)\n",
    "plot.show()\n"
   ]
  },
  {
   "cell_type": "code",
   "execution_count": 7,
   "id": "4d038e4a-1233-43f4-8d73-22d26d5de9e1",
   "metadata": {},
   "outputs": [
    {
     "name": "stdout",
     "output_type": "stream",
     "text": [
      "Intercept: \n",
      " 25792.20019866871\n",
      "Coefficients: \n",
      " [9449.96232146]\n"
     ]
    }
   ],
   "source": [
    "df2 = pd.DataFrame(df1,columns=['YearsExperience','Salary'])\n",
    "\n",
    "X = df2[['YearsExperience']]\n",
    "Y = df2['Salary']\n",
    "reg = LinearRegression()\n",
    "reg.fit(X, Y)\n",
    "\n",
    "print('Intercept: \\n', reg.intercept_)\n",
    "print('Coefficients: \\n', reg.coef_)\n"
   ]
  },
  {
   "cell_type": "code",
   "execution_count": 8,
   "id": "b0b49f17-660e-450e-bcdc-28809edd0451",
   "metadata": {},
   "outputs": [
    {
     "name": "stdout",
     "output_type": "stream",
     "text": [
      "Predicted Salary: \n",
      " [73042.01180594]\n",
      "                            OLS Regression Results                            \n",
      "==============================================================================\n",
      "Dep. Variable:                 Salary   R-squared:                       0.957\n",
      "Model:                            OLS   Adj. R-squared:                  0.955\n",
      "Method:                 Least Squares   F-statistic:                     622.5\n",
      "Date:                Thu, 09 Dec 2021   Prob (F-statistic):           1.14e-20\n",
      "Time:                        00:58:10   Log-Likelihood:                -301.44\n",
      "No. Observations:                  30   AIC:                             606.9\n",
      "Df Residuals:                      28   BIC:                             609.7\n",
      "Df Model:                           1                                         \n",
      "Covariance Type:            nonrobust                                         \n",
      "===================================================================================\n",
      "                      coef    std err          t      P>|t|      [0.025      0.975]\n",
      "-----------------------------------------------------------------------------------\n",
      "const            2.579e+04   2273.053     11.347      0.000    2.11e+04    3.04e+04\n",
      "YearsExperience  9449.9623    378.755     24.950      0.000    8674.119    1.02e+04\n",
      "==============================================================================\n",
      "Omnibus:                        2.140   Durbin-Watson:                   1.648\n",
      "Prob(Omnibus):                  0.343   Jarque-Bera (JB):                1.569\n",
      "Skew:                           0.363   Prob(JB):                        0.456\n",
      "Kurtosis:                       2.147   Cond. No.                         13.2\n",
      "==============================================================================\n",
      "\n",
      "Notes:\n",
      "[1] Standard Errors assume that the covariance matrix of the errors is correctly specified.\n"
     ]
    },
    {
     "name": "stderr",
     "output_type": "stream",
     "text": [
      "c:\\users\\anuj ojha\\appdata\\local\\programs\\python\\python37\\lib\\site-packages\\sklearn\\base.py:446: UserWarning: X does not have valid feature names, but LinearRegression was fitted with feature names\n",
      "  \"X does not have valid feature names, but\"\n"
     ]
    }
   ],
   "source": [
    "New_exp = 5\n",
    "print('Predicted Salary: \\n', reg.predict([[New_exp]]))\n",
    "\n",
    "X = stats.add_constant(X)\n",
    "\n",
    "model = stats.OLS(Y, X).fit()\n",
    "predictions = model.predict(X)\n",
    "\n",
    "print_model = model.summary()\n",
    "print(print_model)\n",
    "\n",
    "\n"
   ]
  },
  {
   "cell_type": "code",
   "execution_count": 9,
   "id": "b964cbb6-d5e9-4ed9-bda0-c21505327c7e",
   "metadata": {},
   "outputs": [
    {
     "data": {
      "image/png": "[encoded data removed]",
      "text/plain": [
       "<Figure size 432x288 with 1 Axes>"
      ]
     },
     "metadata": {
      "needs_background": "light"
     },
     "output_type": "display_data"
    }
   ],
   "source": [
    "plot.scatter( df2[['YearsExperience']],  df2['Salary'])\n",
    "plot.plot(df2[['YearsExperience']], 2.579e+04 + 9449.9623*df2[['YearsExperience']], 'r')\n",
    "plot.show()"
   ]
  },
  {
   "cell_type": "code",
   "execution_count": 18,
   "id": "4e1d4f11-541a-4942-82be-622effb8c7b2",
   "metadata": {
    "tags": []
   },
   "outputs": [
    {
     "name": "stdout",
     "output_type": "stream",
     "text": [
      "Mean Squared Error:  31270951.72228097\n",
      "Root Measn Square Error:  5592.043608760662\n",
      "Mean Absolute Error:  4644.20128944354\n",
      "Explain variance score = 0.96\n",
      "R2 score = 0.96\n"
     ]
    }
   ],
   "source": [
    "y_preds = model.predict(X)\n",
    "RMSE = rmse(Y, y_preds)\n",
    "MSE = mse(Y, y_preds)\n",
    "MAE = meanabs(Y, y_preds)\n",
    "print(\"Mean Squared Error: \", MSE)\n",
    "print(\"Root Measn Square Error: \", RMSE)\n",
    "print(\"Mean Absolute Error: \", MAE)\n",
    "print(\"Explain variance score =\", round(metrics.explained_variance_score(Y, y_preds), 2))\n",
    "print(\"R2 score =\", round(metrics.r2_score(Y, y_preds), 2))\n"
   ]
  },
  {
   "cell_type": "code",
   "execution_count": null,
   "id": "c518cd0d-eba9-4e3b-80ae-963c7d22cc97",
   "metadata": {},
   "outputs": [],
   "source": []
  },
  {
   "cell_type": "code",
   "execution_count": null,
   "id": "cfb49ff7-04a2-4fcc-b06b-45ad71c19f81",
   "metadata": {},
   "outputs": [],
   "source": []
  }
 ],
 "metadata": {
  "kernelspec": {
   "display_name": "Python 3 (ipykernel)",
   "language": "python",
   "name": "python3"
  },
  "language_info": {
   "codemirror_mode": {
    "name": "ipython",
    "version": 3
   },
   "file_extension": ".py",
   "mimetype": "text/x-python",
   "name": "python",
   "nbconvert_exporter": "python",
   "pygments_lexer": "ipython3",
   "version": "3.7.9"
  }
 },
 "nbformat": 4,
 "nbformat_minor": 5
}
